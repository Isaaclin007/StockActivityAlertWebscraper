{
  "nbformat": 4,
  "nbformat_minor": 0,
  "metadata": {
    "colab": {
      "name": "Webscraper_SupportResistancePierceAlert.ipynb",
      "provenance": [],
      "collapsed_sections": []
    },
    "kernelspec": {
      "name": "python3",
      "display_name": "Python 3"
    }
  },
  "cells": [
    {
      "cell_type": "code",
      "metadata": {
        "id": "x6O3M28iHqwi"
      },
      "source": [
        ""
      ],
      "execution_count": null,
      "outputs": []
    },
    {
      "cell_type": "code",
      "metadata": {
        "id": "6YGPlYtFV10n"
      },
      "source": [
        "#import modules \r\n",
        "!pip install selenium\r\n",
        "!pip install textmagic\r\n",
        "!apt-get update \r\n",
        "!apt install chromium-chromedriver\r\n",
        "from textmagic.rest import TextmagicRestClient\r\n",
        "from selenium import webdriver\r\n",
        "import time\r\n",
        "from bs4 import BeautifulSoup\r\n",
        "import pandas as pd\r\n",
        "from selenium.webdriver.common.keys import Keys \r\n",
        "from selenium.webdriver.common.by import By \r\n",
        "from selenium.webdriver.support.ui import WebDriverWait \r\n",
        "from selenium.webdriver.support import expected_conditions as EC \r\n",
        "#initialize webdriver  \r\n",
        "from selenium import webdriver\r\n",
        "chrome_options = webdriver.ChromeOptions()\r\n",
        "chrome_options.add_argument('--headless')\r\n",
        "chrome_options.add_argument('--no-sandbox')\r\n",
        "chrome_options.add_argument('--disable-dev-shm-usage')\r\n",
        "wd = webdriver.Chrome('chromedriver',chrome_options=chrome_options)\r\n",
        "driver =webdriver.Chrome('chromedriver',chrome_options=chrome_options)\r\n",
        "# BaseURL of Yahoo Finance website.\r\n",
        "URL = \"https://finance.yahoo.com/\"\r\n",
        "# List of companies, we're scanning.\r\n",
        "Companies = [\"BILI\", \"Square\", \"Pfizer\", \"Ali Baba\", \"Roku\", \"Palantir\", \"Boeing\"]\r\n",
        "for Company in Companies:\r\n",
        "  #navigate to web page\r\n",
        "  driver.get(URL)\r\n",
        "  time.sleep(2)\r\n",
        "  # Enter name of company in searchbox, and wait for 2 seconds.\r\n",
        "  driver.find_element_by_xpath(\"//input[@placeholder = 'Search for news, symbols or companies']\").send_keys(Company)\r\n",
        "  time.sleep(2)\r\n",
        "  # Click on Search icon and wait for 2 seconds.\r\n",
        "  driver.find_element_by_xpath(\"//button[@id= 'header-desktop-search-button']\").click()\r\n",
        "  time.sleep(2)\r\n",
        "  # Driver clicks on Historical Data tab and sleeps for 2 seconds.\r\n",
        "  driver.find_element_by_xpath(\"//span[text() = 'Historical Data']\").click()\r\n",
        "  time.sleep(2)\r\n",
        "  # Driver scrolls down three times to load the table.\r\n",
        "  for i in range(0,3):\r\n",
        "    driver.execute_script(\"window.scrollBy(0,5000)\")\r\n",
        "  time.sleep(2)\r\n",
        "  # Fetch the webpage and store in a variable.\r\n",
        "  webpage = driver.page_source\r\n",
        "  # print the fetched webpage.\r\n",
        "  #print(webpage)\r\n",
        "  # Web page fetched from driver is parsed using Beautiful Soup.\r\n",
        "  HTMLPage = BeautifulSoup(driver.page_source, 'html.parser')\r\n",
        "  currentprice = HTMLPage.find_all('div', {'class':'My(6px) Pos(r) smartphone_Mt(6px)'})[0].find('span').text\r\n",
        "  # Table is searched using class and stored in another variable.\r\n",
        "  Table = HTMLPage.find('table', class_='W(100%) M(0)')\r\n",
        "  # List of all the rows is store in a variable 'Rows'.\r\n",
        "  Rows = Table.find_all('tr', class_='BdT Bdc($seperatorColor) Ta(end) Fz(s) Whs(nw)')\r\n",
        "  # Empty list is created to store the data\r\n",
        "  historical_data = []\r\n",
        "  # Loop to go through each row of table\r\n",
        "  for i in range(0, len(Rows)):\r\n",
        "    try:\r\n",
        "      # Empty dictionary to store data present in each row\r\n",
        "      RowDict = {}\r\n",
        "      # Extracted all the columns of a row and stored in a variable\r\n",
        "      Values = Rows[i].find_all('td')\r\n",
        "      \r\n",
        "      # Values (Open, High, Close etc.) are extracted and stored in dictionary\r\n",
        "      if len(Values) == 7:\r\n",
        "        RowDict[\"Date\"] = Values[0].find('span').text.replace(',', '')\r\n",
        "        RowDict[\"Open\"] = Values[1].find('span').text.replace(',', '')\r\n",
        "        RowDict[\"High\"] = Values[2].find('span').text.replace(',', '')\r\n",
        "        RowDict[\"Low\"] = Values[3].find('span').text.replace(',', '')\r\n",
        "        RowDict[\"Close\"] = Values[4].find('span').text.replace(',', '')\r\n",
        "        RowDict[\"Adj Close\"] = Values[5].find('span').text.replace(',', '')\r\n",
        "        RowDict[\"Volume\"] = Values[6].find('span').text.replace(',', '')\r\n",
        "      # Uncomment below print statement if required\r\n",
        "        # print(RowDict) \r\n",
        "        # Dictionary is appended in list\r\n",
        "        historical_data.append(RowDict)\r\n",
        "    except:\r\n",
        "      # To check the exception caused for which company\r\n",
        "        print(\"Row Number: \" + str(i))\r\n",
        "    finally:\r\n",
        "      # To move to the next row\r\n",
        "      i = i + 1\r\n",
        "  # Converted list of dictionaries to a Dataframe.\r\n",
        "  historical_data = pd.DataFrame(historical_data)\r\n",
        "  support = min(historical_data.iat[1,3], historical_data.iat[2,3],historical_data.iat[3,3],historical_data.iat[4,3],historical_data.iat[5,3])\r\n",
        "  resistance = max(historical_data.iat[1,2], historical_data.iat[2,2],historical_data.iat[3,2],historical_data.iat[4,2],historical_data.iat[5,2])\r\n",
        "  print(support)\r\n",
        "  print(resistance)\r\n",
        "  #note TextMagic account is private, input your own Username and Token to complete SMS message\r\n",
        "  if (currentprice > resistance or currentprice < support):\r\n",
        "    print(Company + \" has broken it's 5 day support or resistance. Alert should be sent for this company to our user.\")\r\n",
        "    username = \"cchandel2002\"\r\n",
        "    token = \"*************\"\r\n",
        "    client = TextmagicRestClient(username, token)\r\n",
        "    message = client.messages.create(phones=\"2267004807\", text=\"5 day support or resistance has been broken for \" + Company)\r\n",
        "  else:\r\n",
        "    print(Company + \" has not broken it's 5day support or resistance. No alert should be sent for this company to our user.\")"
      ],
      "execution_count": null,
      "outputs": []
    },
    {
      "cell_type": "markdown",
      "metadata": {
        "id": "iZhU2H5mF5Gm"
      },
      "source": [
        ""
      ]
    }
  ]
}